{
 "cells": [
  {
   "cell_type": "code",
   "execution_count": 3,
   "metadata": {},
   "outputs": [],
   "source": [
    "import pandas as pd\n",
    "import numpy as np"
   ]
  },
  {
   "cell_type": "code",
   "execution_count": 4,
   "metadata": {},
   "outputs": [],
   "source": [
    "df = pd.read_csv(\"Equalized Odds Distribution.csv\")"
   ]
  },
  {
   "cell_type": "code",
   "execution_count": 5,
   "metadata": {},
   "outputs": [
    {
     "data": {
      "text/html": [
       "<div>\n",
       "<style scoped>\n",
       "    .dataframe tbody tr th:only-of-type {\n",
       "        vertical-align: middle;\n",
       "    }\n",
       "\n",
       "    .dataframe tbody tr th {\n",
       "        vertical-align: top;\n",
       "    }\n",
       "\n",
       "    .dataframe thead th {\n",
       "        text-align: right;\n",
       "    }\n",
       "</style>\n",
       "<table border=\"1\" class=\"dataframe\">\n",
       "  <thead>\n",
       "    <tr style=\"text-align: right;\">\n",
       "      <th></th>\n",
       "      <th>Unnamed: 0</th>\n",
       "      <th>Logistic Regression Priviledged Rate</th>\n",
       "      <th>Logistic Regression Discriminated Rate</th>\n",
       "      <th>LDA Priviledged Rate</th>\n",
       "      <th>LDA Discriminated Rate</th>\n",
       "      <th>XG Priviledged Rate</th>\n",
       "      <th>XG Discriminated Rate</th>\n",
       "      <th>Decision Tree Priviledged Rate</th>\n",
       "      <th>Decision Tree Discriminated Rate</th>\n",
       "      <th>RF Priviledged Rate</th>\n",
       "      <th>RF Discriminated Rate</th>\n",
       "    </tr>\n",
       "  </thead>\n",
       "  <tbody>\n",
       "    <tr>\n",
       "      <th>0</th>\n",
       "      <td>0</td>\n",
       "      <td>0.590909</td>\n",
       "      <td>0.541667</td>\n",
       "      <td>0.557377</td>\n",
       "      <td>0.547945</td>\n",
       "      <td>0.534483</td>\n",
       "      <td>0.528571</td>\n",
       "      <td>0.500000</td>\n",
       "      <td>0.514706</td>\n",
       "      <td>0.584615</td>\n",
       "      <td>0.541667</td>\n",
       "    </tr>\n",
       "    <tr>\n",
       "      <th>1</th>\n",
       "      <td>1</td>\n",
       "      <td>0.488372</td>\n",
       "      <td>0.523810</td>\n",
       "      <td>0.521739</td>\n",
       "      <td>0.534884</td>\n",
       "      <td>0.500000</td>\n",
       "      <td>0.529412</td>\n",
       "      <td>0.521739</td>\n",
       "      <td>0.506173</td>\n",
       "      <td>0.500000</td>\n",
       "      <td>0.540230</td>\n",
       "    </tr>\n",
       "    <tr>\n",
       "      <th>2</th>\n",
       "      <td>2</td>\n",
       "      <td>0.516129</td>\n",
       "      <td>0.568421</td>\n",
       "      <td>0.482759</td>\n",
       "      <td>0.559140</td>\n",
       "      <td>0.500000</td>\n",
       "      <td>0.534091</td>\n",
       "      <td>0.482759</td>\n",
       "      <td>0.528736</td>\n",
       "      <td>0.500000</td>\n",
       "      <td>0.549451</td>\n",
       "    </tr>\n",
       "    <tr>\n",
       "      <th>3</th>\n",
       "      <td>3</td>\n",
       "      <td>0.542373</td>\n",
       "      <td>0.606383</td>\n",
       "      <td>0.517857</td>\n",
       "      <td>0.548780</td>\n",
       "      <td>0.517857</td>\n",
       "      <td>0.554217</td>\n",
       "      <td>0.500000</td>\n",
       "      <td>0.493151</td>\n",
       "      <td>0.517857</td>\n",
       "      <td>0.584270</td>\n",
       "    </tr>\n",
       "    <tr>\n",
       "      <th>4</th>\n",
       "      <td>4</td>\n",
       "      <td>0.546667</td>\n",
       "      <td>0.602740</td>\n",
       "      <td>0.507246</td>\n",
       "      <td>0.560606</td>\n",
       "      <td>0.500000</td>\n",
       "      <td>0.539683</td>\n",
       "      <td>0.451613</td>\n",
       "      <td>0.532258</td>\n",
       "      <td>0.534247</td>\n",
       "      <td>0.579710</td>\n",
       "    </tr>\n",
       "  </tbody>\n",
       "</table>\n",
       "</div>"
      ],
      "text/plain": [
       "   Unnamed: 0  Logistic Regression Priviledged Rate  \\\n",
       "0           0                              0.590909   \n",
       "1           1                              0.488372   \n",
       "2           2                              0.516129   \n",
       "3           3                              0.542373   \n",
       "4           4                              0.546667   \n",
       "\n",
       "   Logistic Regression Discriminated Rate  LDA Priviledged Rate  \\\n",
       "0                                0.541667              0.557377   \n",
       "1                                0.523810              0.521739   \n",
       "2                                0.568421              0.482759   \n",
       "3                                0.606383              0.517857   \n",
       "4                                0.602740              0.507246   \n",
       "\n",
       "   LDA Discriminated Rate  XG Priviledged Rate  XG Discriminated Rate  \\\n",
       "0                0.547945             0.534483               0.528571   \n",
       "1                0.534884             0.500000               0.529412   \n",
       "2                0.559140             0.500000               0.534091   \n",
       "3                0.548780             0.517857               0.554217   \n",
       "4                0.560606             0.500000               0.539683   \n",
       "\n",
       "   Decision Tree Priviledged Rate  Decision Tree Discriminated Rate  \\\n",
       "0                        0.500000                          0.514706   \n",
       "1                        0.521739                          0.506173   \n",
       "2                        0.482759                          0.528736   \n",
       "3                        0.500000                          0.493151   \n",
       "4                        0.451613                          0.532258   \n",
       "\n",
       "   RF Priviledged Rate  RF Discriminated Rate  \n",
       "0             0.584615               0.541667  \n",
       "1             0.500000               0.540230  \n",
       "2             0.500000               0.549451  \n",
       "3             0.517857               0.584270  \n",
       "4             0.534247               0.579710  "
      ]
     },
     "execution_count": 5,
     "metadata": {},
     "output_type": "execute_result"
    }
   ],
   "source": [
    "df.head()"
   ]
  },
  {
   "cell_type": "code",
   "execution_count": 6,
   "metadata": {},
   "outputs": [],
   "source": [
    "df.to_csv(\"C:/Users/anime/Downloads/equalized odds.csv\")"
   ]
  },
  {
   "cell_type": "code",
   "execution_count": 5,
   "metadata": {},
   "outputs": [
    {
     "data": {
      "text/plain": [
       "(array([ 1.,  3., 10., 25., 37., 65., 40., 37., 19., 13.]),\n",
       " array([0.47572816, 0.50679612, 0.53786408, 0.56893204, 0.6       ,\n",
       "        0.63106796, 0.66213592, 0.69320388, 0.72427184, 0.75533981,\n",
       "        0.78640777]),\n",
       " <BarContainer object of 10 artists>)"
      ]
     },
     "execution_count": 5,
     "metadata": {},
     "output_type": "execute_result"
    },
    {
     "data": {
      "image/png": "[encoded data removed]",
      "text/plain": [
       "<Figure size 640x480 with 1 Axes>"
      ]
     },
     "metadata": {},
     "output_type": "display_data"
    }
   ],
   "source": [
    "import matplotlib.pyplot as plt\n",
    "plt.hist(df['Logistic Regression Accuracy'])"
   ]
  },
  {
   "cell_type": "code",
   "execution_count": null,
   "metadata": {},
   "outputs": [],
   "source": []
  }
 ],
 "metadata": {
  "kernelspec": {
   "display_name": "Python 3",
   "language": "python",
   "name": "python3"
  },
  "language_info": {
   "codemirror_mode": {
    "name": "ipython",
    "version": 3
   },
   "file_extension": ".py",
   "mimetype": "text/x-python",
   "name": "python",
   "nbconvert_exporter": "python",
   "pygments_lexer": "ipython3",
   "version": "3.12.9"
  }
 },
 "nbformat": 4,
 "nbformat_minor": 2
}
